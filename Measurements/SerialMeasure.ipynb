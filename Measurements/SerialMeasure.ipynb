{
 "cells": [
  {
   "cell_type": "code",
   "execution_count": null,
   "metadata": {},
   "outputs": [
    {
     "name": "stdout",
     "output_type": "stream",
     "text": [
      "\n",
      "R2161\n",
      "B4165\n",
      "G4307\n",
      "\n",
      "\n",
      "R2162\n",
      "B4165\n",
      "G4310\n",
      "\n",
      "\n",
      "R2162\n",
      "B4167\n",
      "G4846\n",
      "\n",
      "\n",
      "R2161\n",
      "B4167\n",
      "G4310\n",
      "\n",
      "\n",
      "R2163\n",
      "B4170\n",
      "G4312\n",
      "\n",
      "\n",
      "R2163\n",
      "B4170\n",
      "G4315\n",
      "\n",
      "\n",
      "R2164\n",
      "B3504\n",
      "G4313\n",
      "\n",
      "\n",
      "R2165\n",
      "B4176\n",
      "G4320\n",
      "\n",
      "\n",
      "R2166\n",
      "B4177\n",
      "G4318\n",
      "\n",
      "\n",
      "R2167\n",
      "B4182\n",
      "G3785\n",
      "\n",
      "\n",
      "R2167\n",
      "B4178\n",
      "G4319\n",
      "\n",
      "\n",
      "R2168\n",
      "B3512\n",
      "G4323\n",
      "\n",
      "\n",
      "R2166\n",
      "B4179\n",
      "G4319\n",
      "\n",
      "\n"
     ]
    }
   ],
   "source": [
    "def singleMeasure():\n",
    "    # inform that programm has entered this function\n",
    "    print(\"Wykonywanie pojedynczego pomiaru: \")\n",
    "    \n",
    "    with serial.Serial('/dev/ttyUSB0', 9600, timeout=2.5, rtscts=True) as ser:\n",
    "        ser.rts = False         # enable device\n",
    "        x = ser.read()          # read one byte\n",
    "        str_x = str(x, 'utf-8')\n",
    "        if str_x == startByte:  # check if it's start bajt\n",
    "            RGB_bytes = ser.read(300)    # read up to ten bytes (timeout)\n",
    "            RGB_string = str(RGB_bytes, 'utf-8')\n",
    "            print(RGB_string)     \n",
    "        ser.close()\n",
    "\n",
    "def infMeasure():\n",
    "    s = serial.Serial('/dev/ttyUSB0', 9600, timeout=2.5, rtscts=True)\n",
    "    s.rts = False\n",
    "    x = s.read()          # read one byte\n",
    "    str_x = str(x, 'utf-8')\n",
    "    if str_x == startByte:  # check if it's start bajt\n",
    "        while True:\n",
    "            RGB_bytes = s.read(300)    # read up to ten bytes (timeout)\n",
    "            RGB_string = str(RGB_bytes, 'utf-8')\n",
    "            print(RGB_string)     \n",
    "    s.close()\n",
    "    \n",
    "def MeasureRGB():\n",
    "    # inform that programm has entered this function\n",
    "    print(\"Wykonywanie pojedynczego pomiaru: \")\n",
    "    \n",
    "    with serial.Serial('/dev/ttyUSB0', 9600, timeout=2.5, rtscts=True) as ser:\n",
    "        ser.rts = False         # enable device\n",
    "        x = ser.read()          # read one byte\n",
    "        str_x = str(x, 'utf-8')\n",
    "        if str_x == startByte:  # check if it's start bajt\n",
    "            RGB_bytes = ser.read(300)    # read up to ten bytes (timeout)\n",
    "            RGB_string = str(RGB_bytes, 'utf-8')\n",
    "            print(RGB_string)     \n",
    "        ser.close()\n",
    "\n",
    "\n",
    "if __name__ == \"__main__\":\n",
    "    import serial\n",
    "    import sys\n",
    "    import numpy as np\n",
    "    \n",
    "    # define start byte\n",
    "    startByte = 'S';\n",
    "    \n",
    "    if len(sys.argv) > 1:\n",
    "        measurementsFileName = \"sys.argv[1]\"\n",
    "    else:\n",
    "        measurementsFileName = input(\"Type file name t\")\n",
    "    \n",
    "    infMeasure()\n",
    "    "
   ]
  },
  {
   "cell_type": "code",
   "execution_count": 14,
   "metadata": {},
   "outputs": [],
   "source": [
    "import time as t\n",
    "begin = t.gmtime()"
   ]
  },
  {
   "cell_type": "code",
   "execution_count": 15,
   "metadata": {},
   "outputs": [
    {
     "data": {
      "text/plain": [
       "time.struct_time(tm_year=2020, tm_mon=6, tm_mday=2, tm_hour=18, tm_min=20, tm_sec=13, tm_wday=1, tm_yday=154, tm_isdst=0)"
      ]
     },
     "execution_count": 15,
     "metadata": {},
     "output_type": "execute_result"
    }
   ],
   "source": [
    "begin"
   ]
  },
  {
   "cell_type": "code",
   "execution_count": 13,
   "metadata": {},
   "outputs": [
    {
     "ename": "TypeError",
     "evalue": "unsupported operand type(s) for -: 'str' and 'str'",
     "output_type": "error",
     "traceback": [
      "\u001b[0;31m---------------------------------------------------------------------------\u001b[0m",
      "\u001b[0;31mTypeError\u001b[0m                                 Traceback (most recent call last)",
      "\u001b[0;32m<ipython-input-13-ebd94c524487>\u001b[0m in \u001b[0;36m<module>\u001b[0;34m\u001b[0m\n\u001b[0;32m----> 1\u001b[0;31m \u001b[0mcurrent\u001b[0m \u001b[0;34m=\u001b[0m \u001b[0mt\u001b[0m\u001b[0;34m.\u001b[0m\u001b[0masctime\u001b[0m\u001b[0;34m(\u001b[0m\u001b[0;34m)\u001b[0m \u001b[0;34m-\u001b[0m \u001b[0mbegin\u001b[0m\u001b[0;34m\u001b[0m\u001b[0;34m\u001b[0m\u001b[0m\n\u001b[0m",
      "\u001b[0;31mTypeError\u001b[0m: unsupported operand type(s) for -: 'str' and 'str'"
     ]
    }
   ],
   "source": [
    "current = t.asctime() - begin"
   ]
  },
  {
   "cell_type": "code",
   "execution_count": null,
   "metadata": {},
   "outputs": [],
   "source": []
  },
  {
   "cell_type": "code",
   "execution_count": null,
   "metadata": {},
   "outputs": [],
   "source": []
  }
 ],
 "metadata": {
  "kernelspec": {
   "display_name": "Python 3",
   "language": "python",
   "name": "python3"
  },
  "language_info": {
   "codemirror_mode": {
    "name": "ipython",
    "version": 3
   },
   "file_extension": ".py",
   "mimetype": "text/x-python",
   "name": "python",
   "nbconvert_exporter": "python",
   "pygments_lexer": "ipython3",
   "version": "3.7.3"
  }
 },
 "nbformat": 4,
 "nbformat_minor": 4
}
