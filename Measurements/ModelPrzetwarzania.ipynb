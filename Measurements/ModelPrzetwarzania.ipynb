{
 "cells": [
  {
   "cell_type": "code",
   "execution_count": 1,
   "metadata": {},
   "outputs": [
    {
     "data": {
      "text/plain": [
       "[<matplotlib.lines.Line2D at 0x7fca8321fb38>]"
      ]
     },
     "execution_count": 1,
     "metadata": {},
     "output_type": "execute_result"
    }
   ],
   "source": [
    "import matplotlib.pyplot as plt\n",
    "import numpy as np\n",
    "\n",
    "# Pierwsze zgrubne wyniki i ich reprezentacja bez znormalizowania\n",
    "\n",
    "led_3K = [77, 220, 185]\n",
    "led_4K = [63, 116, 102]\n",
    "led_6_5K = [80, 92, 93]\n",
    "\n",
    "plt.figure(1)\n",
    "plt.plot(led_3K)\n",
    "plt.plot(led_4K)\n",
    "plt.plot(led_6_5K)"
   ]
  },
  {
   "cell_type": "code",
   "execution_count": 2,
   "metadata": {},
   "outputs": [
    {
     "name": "stdout",
     "output_type": "stream",
     "text": [
      "[0.15975104 0.45643154 0.38381743]\n",
      "[0.22419929 0.41281139 0.36298932]\n",
      "[0.30188679 0.34716981 0.3509434 ]\n"
     ]
    },
    {
     "data": {
      "text/plain": [
       "[<matplotlib.lines.Line2D at 0x7fca8315a470>]"
      ]
     },
     "execution_count": 2,
     "metadata": {},
     "output_type": "execute_result"
    },
    {
     "data": {
      "image/png": "[encoded data removed]",
      "text/plain": [
       "<Figure size 432x288 with 1 Axes>"
      ]
     },
     "metadata": {
      "needs_background": "light"
     },
     "output_type": "display_data"
    }
   ],
   "source": [
    "# Normalizacja i przentacja wyników po znormalizowaniu \n",
    "# Widać zależność jest zbliżona do liniowej\n",
    "\n",
    "import numpy as np\n",
    "\n",
    "led_3K = np.asarray(led_3K)\n",
    "led_4K = np.asarray(led_4K)\n",
    "led_6_5K = np.asarray(led_6_5K)\n",
    "#Zarowka = np.asarray(Zarowka)\n",
    "led_3K = led_3K/sum(led_3K)\n",
    "led_4K = led_4K/sum(led_4K)\n",
    "led_6_5K = led_6_5K/sum(led_6_5K)\n",
    "#Zarowka = Zarowka/sum(Zarowka)\n",
    "print(led_3K)\n",
    "print(led_4K)\n",
    "print(led_6_5K)\n",
    "#print(Zarowka)\n",
    "plt.figure(1)\n",
    "plt.plot(led_3K)\n",
    "plt.plot(led_4K)\n",
    "plt.plot(led_6_5K)\n",
    "#plt.plot(Zarowka)"
   ]
  },
  {
   "cell_type": "code",
   "execution_count": 7,
   "metadata": {},
   "outputs": [
    {
     "name": "stdout",
     "output_type": "stream",
     "text": [
      "3000K estimation: 2832.0\n",
      "4000K estimation: 4006.0\n",
      "6500K estimation: 6114.0\n"
     ]
    }
   ],
   "source": [
    "# Zdefiniowanie modelu wstępnego\n",
    "# Parametry a1-a3 wyliczono w excelu przy użyciu metedo eliminacji gaussa\n",
    "\n",
    "def colorTempEstimation(led):\n",
    "    a1 = 12207.72\n",
    "    a2 = -23127.91\n",
    "    a3 = 29799.72\n",
    "    estym = ((a1*led[0])+(a2*led[1])+(a3*led[2]))\n",
    "    return round(estym)\n",
    "\n",
    "print(\"3000K estimation:\",colorTempEstimation(led_3K))\n",
    "print(\"4000K estimation:\",colorTempEstimation(led_4K))\n",
    "print(\"6500K estimation:\",colorTempEstimation(led_6_5K))\n",
    "#print(colorTempEstimation(Zarowka))"
   ]
  },
  {
   "cell_type": "code",
   "execution_count": 8,
   "metadata": {},
   "outputs": [],
   "source": [
    "def normalize(rgb_t):\n",
    "    rgb_t_np = np.asarray(rgb_t)\n",
    "    return rgb_t_np/sum(rgb_t_np)\n",
    "\n",
    "def printColorTempEstimation(rgb_t):\n",
    "    N_rgb_t = normalize(rgb_t)\n",
    "    cte = colorTempEstimation(N_rgb_t)\n",
    "    print(cte)\n",
    "    return cte"
   ]
  },
  {
   "cell_type": "code",
   "execution_count": 9,
   "metadata": {},
   "outputs": [
    {
     "name": "stdout",
     "output_type": "stream",
     "text": [
      "2832.0\n",
      "2993.0\n",
      "4006.0\n",
      "3988.0\n",
      "6114.0\n",
      "6228.0\n"
     ]
    }
   ],
   "source": [
    "# Porównanie skrajnych wyników w celu ustalenia rozrzutu\n",
    "# Oraz potencjalnych błędów\n",
    "\n",
    "CiepleB = [77,220,185]\n",
    "CiepleE = [87, 238, 202]\n",
    "m4K_B = [63, 116, 102]\n",
    "m4K_E = [63, 120, 106]\n",
    "m6K5_B = [80, 92, 93]\n",
    "m6K5_E = [84, 95, 97]\n",
    "\n",
    "allGad = [[77,220,185],\n",
    "[87, 238, 202],\n",
    "[63, 116, 102],\n",
    "[63, 120, 106],\n",
    "[80, 92, 93],\n",
    "[84, 95, 97]]\n",
    "\n",
    "\n",
    "\n",
    "for m in allGad:\n",
    "    printColorTempEstimation(m)\n"
   ]
  },
  {
   "cell_type": "code",
   "execution_count": 10,
   "metadata": {
    "scrolled": true
   },
   "outputs": [
    {
     "name": "stdout",
     "output_type": "stream",
     "text": [
      "Rozrzuty wzorca i modelu, dla wielu pomiarów:\n",
      "\n",
      "3000K\n",
      "\n",
      "2832.0\n",
      "2908.0\n",
      "2993.0\n",
      "2891.0\n",
      "2964.0\n",
      "2874.0\n",
      "2876.0\n",
      "2944.0\n",
      "\n",
      "Wzrzec 3000K - Rozrzut:  161.0  Średnia: 2910.25\n",
      "\n",
      "4000K\n",
      "\n",
      "4006.0\n",
      "4082.0\n",
      "3988.0\n",
      "4011.0\n",
      "4082.0\n",
      "\n",
      "Wzrzec 4000K - Rozrzut:  94.0  Średnia: 4033.8\n",
      "\n",
      "6500K\n",
      "\n",
      "6114.0\n",
      "6001.0\n",
      "6206.0\n",
      "6313.0\n",
      "6091.0\n",
      "6206.0\n",
      "\n",
      "Wzrzec 6500K - Rozrzut:  312.0  Średnia: 6155.166666666667\n"
     ]
    },
    {
     "data": {
      "text/plain": [
       "Text(0.5, 1.0, '3000K : 4000K : 6500K')"
      ]
     },
     "execution_count": 10,
     "metadata": {},
     "output_type": "execute_result"
    },
    {
     "data": {
      "image/png": "[encoded data removed]",
      "text/plain": [
       "<Figure size 432x288 with 1 Axes>"
      ]
     },
     "metadata": {
      "needs_background": "light"
     },
     "output_type": "display_data"
    }
   ],
   "source": [
    "# Oszacowanie rozrzutu wyników dla wzorca i przyjetego modelu\n",
    "\n",
    "roz_3K = [[77,220,185],\n",
    "[83,229,193],\n",
    "[87,238,202],\n",
    "[82,230,194],\n",
    "[83,231,196],\n",
    "[79,222,187],\n",
    "[79,223,188],\n",
    "[82,230,195]]\n",
    "\n",
    "roz_4K = [[63,116,102],\n",
    "[63,119,106],\n",
    "[63,120,106],\n",
    "[63,115,101],\n",
    "[63,119,106]]\n",
    "\n",
    "roz_6K5 = [[80,92,93],\n",
    "[79,92,92],\n",
    "[83,95,97],\n",
    "[84,95,98],\n",
    "[79,92,93],\n",
    "[83,95,97]]\n",
    "\n",
    "print(\"Rozrzuty wzorca i modelu, dla wielu pomiarów:\\n\")\n",
    "print(\"3000K\\n\")\n",
    "plt.figure(1)\n",
    "estym = []\n",
    "for mesure in roz_3K:\n",
    "    mesure = normalize(mesure)\n",
    "    plt.plot(mesure)\n",
    "    #plt.title(\"3000K\")\n",
    "    estym.append(printColorTempEstimation(mesure))\n",
    "print(\"\\nWzrzec 3000K - Rozrzut: \", max(estym) - min(estym), \" Średnia:\", sum(estym)/len(estym))\n",
    "\n",
    "print(\"\\n4000K\\n\")\n",
    "plt.figure(1)\n",
    "estym = []\n",
    "for mesure in roz_4K:\n",
    "    mesure = normalize(mesure)\n",
    "    plt.plot(mesure)\n",
    "    #plt.title(\"4000K\")\n",
    "    estym.append(printColorTempEstimation(mesure))\n",
    "print(\"\\nWzrzec 4000K - Rozrzut: \", max(estym) - min(estym), \" Średnia:\", sum(estym)/len(estym))\n",
    "\n",
    "print(\"\\n6500K\\n\")\n",
    "plt.figure(1)\n",
    "estym = []\n",
    "for mesure in roz_6K5:\n",
    "    mesure = normalize(mesure)\n",
    "    plt.plot(mesure)\n",
    "    #plt.title(\"6500K\")\n",
    "    estym.append(printColorTempEstimation(mesure))\n",
    "print(\"\\nWzrzec 6500K - Rozrzut: \", max(estym) - min(estym), \" Średnia:\", sum(estym)/len(estym))\n",
    "\n",
    "plt.title(\"3000K : 4000K : 6500K\")\n",
    "    "
   ]
  },
  {
   "cell_type": "code",
   "execution_count": 18,
   "metadata": {},
   "outputs": [
    {
     "name": "stdout",
     "output_type": "stream",
     "text": [
      "[83, 229, 193]\n",
      "3000K average param:  [0.16435644 0.45346535 0.38217822]\n",
      "2908.0\n",
      "[63, 115, 101]\n",
      "4000K average param:  [0.22580645 0.41218638 0.36200717]\n",
      "4011.0\n",
      "[83, 95, 97]\n",
      "6500K average param:  [0.30181818 0.34545455 0.35272727]\n",
      "6206.0\n"
     ]
    }
   ],
   "source": [
    "print(roz_3K[1])\n",
    "roz_3K_N = normalize(roz_3K[1])\n",
    "print(\"3000K average param: \",roz_3K_N)\n",
    "print(colorTempEstimation(roz_3K_N))\n",
    "\n",
    "print(roz_4K[3])\n",
    "roz_4K_N = normalize(roz_4K[3])\n",
    "print(\"4000K average param: \",roz_4K_N)\n",
    "print(colorTempEstimation(roz_4K_N))\n",
    "\n",
    "print(roz_6K5[2])\n",
    "roz_6K5_N = normalize(roz_6K5[2])\n",
    "print(\"6500K average param: \",roz_6K5_N)\n",
    "print(colorTempEstimation(roz_6K5_N))\n"
   ]
  },
  {
   "cell_type": "code",
   "execution_count": 30,
   "metadata": {},
   "outputs": [
    {
     "name": "stdout",
     "output_type": "stream",
     "text": [
      "[[0.16435644 0.45346535 0.38217822]\n",
      " [0.22580645 0.41218638 0.36200717]\n",
      " [0.30181818 0.34545455 0.35272727]]\n"
     ]
    }
   ],
   "source": [
    "# Wybrane probki są najbardziej zbliżone do wartości średnich dla poszczególnych wzorców \n",
    "# Posłużą jako baza do opymalizacji algorytmu\n",
    "macierzBazowa = [roz_3K_N, roz_4K_N, roz_6K5_N]\n",
    "\n",
    "macierzBazowaN = np.asarray(macierzBazowa)\n",
    "print(macierzBazowaN)"
   ]
  },
  {
   "cell_type": "code",
   "execution_count": 33,
   "metadata": {},
   "outputs": [],
   "source": [
    "from numpy.linalg import solve\n",
    "\n",
    "solve(macierzBazowaN, [3000, 4000, 6500])\n",
    "\n",
    "def colorTempEstimation2(led):\n",
    "    a1 = 7904.23992281\n",
    "    a2 = -34825.04288165\n",
    "    a3 = 45771.4140223\n",
    "    estym = ((a1*led[0])+(a2*led[1])+(a3*led[2]))\n",
    "    return round(estym)\n",
    "\n",
    "def printColorTempEstimation2(rgb_t):\n",
    "    N_rgb_t = normalize(rgb_t)\n",
    "    cte = colorTempEstimation2(N_rgb_t)\n",
    "    print(cte)\n",
    "    return cte"
   ]
  },
  {
   "cell_type": "code",
   "execution_count": 34,
   "metadata": {},
   "outputs": [
    {
     "name": "stdout",
     "output_type": "stream",
     "text": [
      "Rozrzuty wzorca i modelu, dla wielu pomiarów:\n",
      "\n",
      "3000K\n",
      "\n",
      "2935.0\n",
      "3000.0\n",
      "3122.0\n",
      "3000.0\n",
      "3103.0\n",
      "2976.0\n",
      "2987.0\n",
      "3084.0\n",
      "\n",
      "Wzrzec 3000K - Rozrzut:  187.0  Średnia: 3025.875\n",
      "\n",
      "4000K\n",
      "\n",
      "4010.0\n",
      "4186.0\n",
      "4051.0\n",
      "4000.0\n",
      "4186.0\n",
      "\n",
      "Wzrzec 4000K - Rozrzut:  186.0  Średnia: 4086.6\n",
      "\n",
      "6500K\n",
      "\n",
      "6359.0\n",
      "6203.0\n",
      "6500.0\n",
      "6647.0\n",
      "6353.0\n",
      "6500.0\n",
      "\n",
      "Wzrzec 6500K - Rozrzut:  444.0  Średnia: 6427.0\n"
     ]
    },
    {
     "data": {
      "text/plain": [
       "Text(0.5, 1.0, '3000K : 4000K : 6500K')"
      ]
     },
     "execution_count": 34,
     "metadata": {},
     "output_type": "execute_result"
    },
    {
     "data": {
      "image/png": "[encoded data removed]",
      "text/plain": [
       "<Figure size 432x288 with 1 Axes>"
      ]
     },
     "metadata": {
      "needs_background": "light"
     },
     "output_type": "display_data"
    }
   ],
   "source": [
    "# Oszacowanie rozrzutu wyników nowego modelu dla pomiarów jak wyżej\n",
    "\n",
    "roz_3K = [[77,220,185],\n",
    "[83,229,193],\n",
    "[87,238,202],\n",
    "[82,230,194],\n",
    "[83,231,196],\n",
    "[79,222,187],\n",
    "[79,223,188],\n",
    "[82,230,195]]\n",
    "\n",
    "roz_4K = [[63,116,102],\n",
    "[63,119,106],\n",
    "[63,120,106],\n",
    "[63,115,101],\n",
    "[63,119,106]]\n",
    "\n",
    "roz_6K5 = [[80,92,93],\n",
    "[79,92,92],\n",
    "[83,95,97],\n",
    "[84,95,98],\n",
    "[79,92,93],\n",
    "[83,95,97]]\n",
    "\n",
    "print(\"Rozrzuty wzorca i modelu, dla wielu pomiarów:\\n\")\n",
    "print(\"3000K\\n\")\n",
    "plt.figure(1)\n",
    "estym = []\n",
    "for mesure in roz_3K:\n",
    "    mesure = normalize(mesure)\n",
    "    plt.plot(mesure)\n",
    "    #plt.title(\"3000K\")\n",
    "    estym.append(printColorTempEstimation2(mesure))\n",
    "print(\"\\nWzrzec 3000K - Rozrzut: \", max(estym) - min(estym), \" Średnia:\", sum(estym)/len(estym))\n",
    "\n",
    "print(\"\\n4000K\\n\")\n",
    "plt.figure(1)\n",
    "estym = []\n",
    "for mesure in roz_4K:\n",
    "    mesure = normalize(mesure)\n",
    "    plt.plot(mesure)\n",
    "    #plt.title(\"4000K\")\n",
    "    estym.append(printColorTempEstimation2(mesure))\n",
    "print(\"\\nWzrzec 4000K - Rozrzut: \", max(estym) - min(estym), \" Średnia:\", sum(estym)/len(estym))\n",
    "\n",
    "print(\"\\n6500K\\n\")\n",
    "plt.figure(1)\n",
    "estym = []\n",
    "for mesure in roz_6K5:\n",
    "    mesure = normalize(mesure)\n",
    "    plt.plot(mesure)\n",
    "    #plt.title(\"6500K\")\n",
    "    estym.append(printColorTempEstimation2(mesure))\n",
    "print(\"\\nWzrzec 6500K - Rozrzut: \", max(estym) - min(estym), \" Średnia:\", sum(estym)/len(estym))\n",
    "\n",
    "plt.title(\"3000K : 4000K : 6500K\")\n",
    "    "
   ]
  },
  {
   "cell_type": "code",
   "execution_count": 54,
   "metadata": {},
   "outputs": [
    {
     "name": "stdout",
     "output_type": "stream",
     "text": [
      "4907.0\n",
      "2131.0\n",
      "2133.0\n",
      "1990.0\n",
      "1479.0\n"
     ]
    },
    {
     "data": {
      "text/plain": [
       "1479.0"
      ]
     },
     "execution_count": 54,
     "metadata": {},
     "output_type": "execute_result"
    }
   ],
   "source": [
    "# Nowe źródło (nie wzorcowe)\n",
    "\n",
    "n_xK = [[66, 150, 141],\n",
    "[77, 162, 127],\n",
    "[108, 168, 128],\n",
    "[113, 168, 126],\n",
    "[82, 178, 134]]\n",
    "\n",
    "n_xK = np.asarray(n_xK)\n",
    "\n",
    "printColorTempEstimation2(n_xK1)\n",
    "printColorTempEstimation2(n_xK2)\n",
    "printColorTempEstimation2(n_xK3)\n",
    "printColorTempEstimation2(n_xK4)\n",
    "printColorTempEstimation2(n_xK5)"
   ]
  },
  {
   "cell_type": "code",
   "execution_count": 58,
   "metadata": {},
   "outputs": [],
   "source": [
    "n_xK[:,0]\n",
    "n_xK_av = [sum(n_xK[:,1])/len(n_xK[:,1]), sum(n_xK[:,1])/len(n_xK[:,2]),sum(n_xK[:,2])/len(n_xK[:,2])]"
   ]
  },
  {
   "cell_type": "code",
   "execution_count": 59,
   "metadata": {},
   "outputs": [
    {
     "data": {
      "text/plain": [
       "[165.2, 165.2, 131.2]"
      ]
     },
     "execution_count": 59,
     "metadata": {},
     "output_type": "execute_result"
    }
   ],
   "source": [
    "n_xK_av"
   ]
  },
  {
   "cell_type": "code",
   "execution_count": 61,
   "metadata": {},
   "outputs": [
    {
     "name": "stdout",
     "output_type": "stream",
     "text": [
      "6578.0\n",
      "[[0.16435644 0.45346535 0.38217822]\n",
      " [0.22580645 0.41218638 0.36200717]\n",
      " [0.30181818 0.34545455 0.35272727]\n",
      " [0.23333333 0.37666667 0.39      ]]\n"
     ]
    },
    {
     "ename": "LinAlgError",
     "evalue": "Last 2 dimensions of the array must be square",
     "output_type": "error",
     "traceback": [
      "\u001b[0;31m---------------------------------------------------------------------------\u001b[0m",
      "\u001b[0;31mLinAlgError\u001b[0m                               Traceback (most recent call last)",
      "\u001b[0;32m<ipython-input-61-fe61de2a09a6>\u001b[0m in \u001b[0;36m<module>\u001b[0;34m\u001b[0m\n\u001b[1;32m      9\u001b[0m \u001b[0mprint\u001b[0m\u001b[0;34m(\u001b[0m\u001b[0mmacierzBazowaN2\u001b[0m\u001b[0;34m)\u001b[0m\u001b[0;34m\u001b[0m\u001b[0;34m\u001b[0m\u001b[0m\n\u001b[1;32m     10\u001b[0m \u001b[0;34m\u001b[0m\u001b[0m\n\u001b[0;32m---> 11\u001b[0;31m \u001b[0msolve\u001b[0m\u001b[0;34m(\u001b[0m\u001b[0mmacierzBazowaN2\u001b[0m\u001b[0;34m,\u001b[0m \u001b[0;34m[\u001b[0m\u001b[0;36m3000\u001b[0m\u001b[0;34m,\u001b[0m \u001b[0;36m4000\u001b[0m\u001b[0;34m,\u001b[0m \u001b[0;36m6500\u001b[0m\u001b[0;34m,\u001b[0m \u001b[0;36m2500\u001b[0m\u001b[0;34m]\u001b[0m\u001b[0;34m)\u001b[0m\u001b[0;34m\u001b[0m\u001b[0;34m\u001b[0m\u001b[0m\n\u001b[0m",
      "\u001b[0;32m<__array_function__ internals>\u001b[0m in \u001b[0;36msolve\u001b[0;34m(*args, **kwargs)\u001b[0m\n",
      "\u001b[0;32m~/.local/lib/python3.7/site-packages/numpy/linalg/linalg.py\u001b[0m in \u001b[0;36msolve\u001b[0;34m(a, b)\u001b[0m\n\u001b[1;32m    388\u001b[0m     \u001b[0ma\u001b[0m\u001b[0;34m,\u001b[0m \u001b[0m_\u001b[0m \u001b[0;34m=\u001b[0m \u001b[0m_makearray\u001b[0m\u001b[0;34m(\u001b[0m\u001b[0ma\u001b[0m\u001b[0;34m)\u001b[0m\u001b[0;34m\u001b[0m\u001b[0;34m\u001b[0m\u001b[0m\n\u001b[1;32m    389\u001b[0m     \u001b[0m_assertRankAtLeast2\u001b[0m\u001b[0;34m(\u001b[0m\u001b[0ma\u001b[0m\u001b[0;34m)\u001b[0m\u001b[0;34m\u001b[0m\u001b[0;34m\u001b[0m\u001b[0m\n\u001b[0;32m--> 390\u001b[0;31m     \u001b[0m_assertNdSquareness\u001b[0m\u001b[0;34m(\u001b[0m\u001b[0ma\u001b[0m\u001b[0;34m)\u001b[0m\u001b[0;34m\u001b[0m\u001b[0;34m\u001b[0m\u001b[0m\n\u001b[0m\u001b[1;32m    391\u001b[0m     \u001b[0mb\u001b[0m\u001b[0;34m,\u001b[0m \u001b[0mwrap\u001b[0m \u001b[0;34m=\u001b[0m \u001b[0m_makearray\u001b[0m\u001b[0;34m(\u001b[0m\u001b[0mb\u001b[0m\u001b[0;34m)\u001b[0m\u001b[0;34m\u001b[0m\u001b[0;34m\u001b[0m\u001b[0m\n\u001b[1;32m    392\u001b[0m     \u001b[0mt\u001b[0m\u001b[0;34m,\u001b[0m \u001b[0mresult_t\u001b[0m \u001b[0;34m=\u001b[0m \u001b[0m_commonType\u001b[0m\u001b[0;34m(\u001b[0m\u001b[0ma\u001b[0m\u001b[0;34m,\u001b[0m \u001b[0mb\u001b[0m\u001b[0;34m)\u001b[0m\u001b[0;34m\u001b[0m\u001b[0;34m\u001b[0m\u001b[0m\n",
      "\u001b[0;32m~/.local/lib/python3.7/site-packages/numpy/linalg/linalg.py\u001b[0m in \u001b[0;36m_assertNdSquareness\u001b[0;34m(*arrays)\u001b[0m\n\u001b[1;32m    211\u001b[0m         \u001b[0mm\u001b[0m\u001b[0;34m,\u001b[0m \u001b[0mn\u001b[0m \u001b[0;34m=\u001b[0m \u001b[0ma\u001b[0m\u001b[0;34m.\u001b[0m\u001b[0mshape\u001b[0m\u001b[0;34m[\u001b[0m\u001b[0;34m-\u001b[0m\u001b[0;36m2\u001b[0m\u001b[0;34m:\u001b[0m\u001b[0;34m]\u001b[0m\u001b[0;34m\u001b[0m\u001b[0;34m\u001b[0m\u001b[0m\n\u001b[1;32m    212\u001b[0m         \u001b[0;32mif\u001b[0m \u001b[0mm\u001b[0m \u001b[0;34m!=\u001b[0m \u001b[0mn\u001b[0m\u001b[0;34m:\u001b[0m\u001b[0;34m\u001b[0m\u001b[0;34m\u001b[0m\u001b[0m\n\u001b[0;32m--> 213\u001b[0;31m             \u001b[0;32mraise\u001b[0m \u001b[0mLinAlgError\u001b[0m\u001b[0;34m(\u001b[0m\u001b[0;34m'Last 2 dimensions of the array must be square'\u001b[0m\u001b[0;34m)\u001b[0m\u001b[0;34m\u001b[0m\u001b[0;34m\u001b[0m\u001b[0m\n\u001b[0m\u001b[1;32m    214\u001b[0m \u001b[0;34m\u001b[0m\u001b[0m\n\u001b[1;32m    215\u001b[0m \u001b[0;32mdef\u001b[0m \u001b[0m_assertFinite\u001b[0m\u001b[0;34m(\u001b[0m\u001b[0;34m*\u001b[0m\u001b[0marrays\u001b[0m\u001b[0;34m)\u001b[0m\u001b[0;34m:\u001b[0m\u001b[0;34m\u001b[0m\u001b[0;34m\u001b[0m\u001b[0m\n",
      "\u001b[0;31mLinAlgError\u001b[0m: Last 2 dimensions of the array must be square"
     ]
    }
   ],
   "source": [
    "# Źródło żarowe \n",
    "n_xK = [70, 113, 117]\n",
    "printColorTempEstimation2(n_xK)"
   ]
  },
  {
   "cell_type": "code",
   "execution_count": null,
   "metadata": {},
   "outputs": [],
   "source": []
  }
 ],
 "metadata": {
  "kernelspec": {
   "display_name": "Python 3",
   "language": "python",
   "name": "python3"
  },
  "language_info": {
   "codemirror_mode": {
    "name": "ipython",
    "version": 3
   },
   "file_extension": ".py",
   "mimetype": "text/x-python",
   "name": "python",
   "nbconvert_exporter": "python",
   "pygments_lexer": "ipython3",
   "version": "3.7.3"
  }
 },
 "nbformat": 4,
 "nbformat_minor": 2
}
