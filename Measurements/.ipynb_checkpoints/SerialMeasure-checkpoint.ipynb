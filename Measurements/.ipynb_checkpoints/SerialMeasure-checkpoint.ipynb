{
 "cells": [
  {
   "cell_type": "code",
   "execution_count": 2,
   "metadata": {},
   "outputs": [
    {
     "name": "stdout",
     "output_type": "stream",
     "text": [
      "\n",
      "R2159\n",
      "B4824\n",
      "G4301\n",
      "\n",
      "\n",
      "R2159\n",
      "B4156\n",
      "G4297\n",
      "\n",
      "\n",
      "R2157\n",
      "B4152\n",
      "G4295\n",
      "\n",
      "\n",
      "R2157\n",
      "B4148\n",
      "G4290\n",
      "\n",
      "\n",
      "R2152\n",
      "B5464\n",
      "G4815\n",
      "\n",
      "\n"
     ]
    }
   ],
   "source": [
    "\n",
    "def singleMeasure():\n",
    "    # inform that programm has entered this function\n",
    "    print(\"Wykonywanie pojedynczego pomiaru: \")\n",
    "    \n",
    "    with serial.Serial('/dev/ttyUSB0', 9600, timeout=2.5, rtscts=True) as ser:\n",
    "        ser.rts = False         # enable device\n",
    "        x = ser.read()          # read one byte\n",
    "        str_x = str(x, 'utf-8')\n",
    "        if str_x == startByte:  # check if it's start bajt\n",
    "            RGB_bytes = ser.read(300)    # read up to ten bytes (timeout)\n",
    "            RGB_string = str(RGB_bytes, 'utf-8')\n",
    "            print(RGB_string)     \n",
    "        ser.close()\n",
    "\n",
    "def infMeasure():\n",
    "    s = serial.Serial('/dev/ttyUSB0', 9600, timeout=2.5, rtscts=True)\n",
    "    s.rts = False\n",
    "    x = s.read()          # read one byte\n",
    "    str_x = str(x, 'utf-8')\n",
    "    if str_x == startByte:  # check if it's start bajt\n",
    "        while True:\n",
    "            RGB_bytes = s.read(300)    # read up to ten bytes (timeout)\n",
    "            RGB_string = str(RGB_bytes, 'utf-8')\n",
    "            print(RGB_string)     \n",
    "    s.close()\n",
    "\n",
    "if __name__ == \"__main__\":\n",
    "    import serial\n",
    "    import sys\n",
    "    import numpy as np\n",
    "    \n",
    "    # define start byte\n",
    "    startByte = 'S';\n",
    "    \n",
    "    if len(sys.argv) > 1:\n",
    "        measurementsFileName = \"sys.argv[1]\"\n",
    "    else:\n",
    "        measurementsFileName = input(\"Type file name t\")\n",
    "    \n",
    "    infMeasure()\n",
    "    "
   ]
  },
  {
   "cell_type": "code",
   "execution_count": null,
   "metadata": {},
   "outputs": [],
   "source": []
  },
  {
   "cell_type": "code",
   "execution_count": null,
   "metadata": {},
   "outputs": [],
   "source": []
  }
 ],
 "metadata": {
  "kernelspec": {
   "display_name": "Python 3",
   "language": "python",
   "name": "python3"
  },
  "language_info": {
   "codemirror_mode": {
    "name": "ipython",
    "version": 3
   },
   "file_extension": ".py",
   "mimetype": "text/x-python",
   "name": "python",
   "nbconvert_exporter": "python",
   "pygments_lexer": "ipython3",
   "version": "3.7.3"
  }
 },
 "nbformat": 4,
 "nbformat_minor": 4
}
